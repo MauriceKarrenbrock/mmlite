{
 "cells": [
  {
   "cell_type": "markdown",
   "metadata": {},
   "source": [
    "# Water"
   ]
  },
  {
   "cell_type": "code",
   "execution_count": 13,
   "metadata": {},
   "outputs": [
    {
     "name": "stdout",
     "output_type": "stream",
     "text": [
      "The autoreload extension is already loaded. To reload it, use:\n",
      "  %reload_ext autoreload\n"
     ]
    }
   ],
   "source": [
    "%load_ext autoreload\n",
    "%autoreload 2\n",
    "from mmlite.systems import Water\n",
    "from mmlite.plot import show_mdtraj\n",
    "import logging\n",
    "\n",
    "logging.basicConfig(level=logging.INFO)"
   ]
  },
  {
   "cell_type": "code",
   "execution_count": 14,
   "metadata": {},
   "outputs": [],
   "source": [
    "water = Water()"
   ]
  },
  {
   "cell_type": "code",
   "execution_count": 5,
   "metadata": {},
   "outputs": [
    {
     "name": "stderr",
     "output_type": "stream",
     "text": [
      "INFO:mmlite.mdsys:Energy before minimization: 42.62383270263672 kJ/mol\n",
      "INFO:mmlite.mdsys:Energy after minimization: 1.2486690138757695e-05 kJ/mol\n"
     ]
    },
    {
     "data": {
      "application/vnd.jupyter.widget-view+json": {
       "model_id": "7564bca9f4dc437da629aca2eba62373",
       "version_major": 2,
       "version_minor": 0
      },
      "text/plain": [
       "NGLWidget()"
      ]
     },
     "metadata": {},
     "output_type": "display_data"
    }
   ],
   "source": [
    "water.minimize()\n",
    "water.view"
   ]
  },
  {
   "cell_type": "code",
   "execution_count": 6,
   "metadata": {},
   "outputs": [
    {
     "name": "stdout",
     "output_type": "stream",
     "text": [
      "#\"Step\",\"Total Energy (kJ/mole)\",\"Temperature (K)\"\n",
      "100,5.922437489032745,188.4313357868529\n",
      "#\"Step\",\"Time (ps)\",\"Potential Energy (kJ/mole)\",\"Total Energy (kJ/mole)\",\"Temperature (K)\"\n",
      "100,0.20000000000000015,1.222316026687622,5.922437489032745,188.4313357868529\n",
      "200,6.537800550460815,183.01687145226663\n",
      "200,0.4000000000000003,1.9727343320846558,6.537800550460815,183.01687145226663\n",
      "300,6.563107915222645,164.26904546294534\n",
      "300,0.6000000000000004,2.4656765460968018,6.563107915222645,164.26904546294534\n",
      "400,6.158393748104572,197.2200555398372\n",
      "400,0.8000000000000006,1.2390515804290771,6.158393748104572,197.2200555398372\n",
      "500,6.44958633184433,171.95263227661343\n",
      "500,1.0000000000000007,2.1605000495910645,6.44958633184433,171.95263227661343\n",
      "600,6.503985319286585,175.05929481677197\n",
      "600,1.2000000000000008,2.1374082565307617,6.503985319286585,175.05929481677197\n",
      "700,6.155281618237495,188.00151530211025\n",
      "700,1.400000000000001,1.46588134765625,6.155281618237495,188.00151530211025\n",
      "800,5.615548461675644,214.2527204453302\n",
      "800,1.6000000000000012,0.27135342359542847,5.615548461675644,214.2527204453302\n",
      "900,5.820263750851154,191.2018004989152\n",
      "900,1.8000000000000014,1.0510374307632446,5.820263750851154,191.2018004989152\n",
      "1000,6.327089451253414,187.83088662926147\n",
      "1000,2.0000000000000013,1.641945242881775,6.327089451253414,187.83088662926147\n"
     ]
    }
   ],
   "source": [
    "# Integrate some dynamics\n",
    "water.simulation.step(1000)"
   ]
  },
  {
   "cell_type": "code",
   "execution_count": 7,
   "metadata": {},
   "outputs": [
    {
     "data": {
      "application/vnd.jupyter.widget-view+json": {
       "model_id": "589a6cad1e1746f5bb3af7533e3870b0",
       "version_major": 2,
       "version_minor": 0
      },
      "text/plain": [
       "NGLWidget(max_frame=999)"
      ]
     },
     "metadata": {},
     "output_type": "display_data"
    }
   ],
   "source": [
    "show_mdtraj('traj.pdb', all='ball+stick')"
   ]
  },
  {
   "cell_type": "code",
   "execution_count": null,
   "metadata": {},
   "outputs": [],
   "source": []
  },
  {
   "cell_type": "code",
   "execution_count": null,
   "metadata": {},
   "outputs": [],
   "source": []
  }
 ],
 "metadata": {
  "kernelspec": {
   "display_name": "neat",
   "language": "python",
   "name": "neat"
  },
  "language_info": {
   "codemirror_mode": {
    "name": "ipython",
    "version": 3
   },
   "file_extension": ".py",
   "mimetype": "text/x-python",
   "name": "python",
   "nbconvert_exporter": "python",
   "pygments_lexer": "ipython3",
   "version": "3.7.8"
  }
 },
 "nbformat": 4,
 "nbformat_minor": 2
}
